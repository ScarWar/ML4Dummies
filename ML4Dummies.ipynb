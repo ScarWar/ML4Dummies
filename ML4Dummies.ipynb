{
 "cells": [
  {
   "cell_type": "markdown",
   "metadata": {},
   "source": [
    "# ML for dummies\n",
    "\n",
    "1.  Supervised and Unsupervised (RL?)  \n",
    "    a.  Anomaly detection  \n",
    "2.  Intro to ML  \n",
    "    a.  Loss and optimization  \n",
    "    b.  GD  \n",
    "3.  Regression and classification  \n",
    "    a.  Linear regression  \n",
    "    b.  SVM, logistic  \n",
    "4.  Clustering  \n",
    "    a.  KNN & k-means  \n",
    "5.  NN  \n",
    "    a.  Perceptron  \n",
    "    b.  Sigmoid, ReLU, tanh, etc.  \n",
    "    c.  From Perceptron to a network  \n",
    "    d.  Loss -\\> Derivation -\\> Update  \n",
    "    e.  Dense, Conv, RNN  \n",
    "6.  Summery  \n",
    "    a.  Real world examples  \n",
    "        i) YOLO\n",
    "        ii) BERT\n",
    "        iii) Deepfake (GANs)"
   ]
  },
  {
   "cell_type": "code",
   "execution_count": 2,
   "metadata": {},
   "outputs": [],
   "source": [
    "import numpy as np\n",
    "import pandas as pd\n",
    "import sklearn as sk"
   ]
  }
 ],
 "metadata": {
  "kernelspec": {
   "display_name": "Python 3",
   "language": "python",
   "name": "python3"
  },
  "language_info": {
   "codemirror_mode": {
    "name": "ipython",
    "version": 3
   },
   "file_extension": ".py",
   "mimetype": "text/x-python",
   "name": "python",
   "nbconvert_exporter": "python",
   "pygments_lexer": "ipython3",
   "version": "3.7.6"
  }
 },
 "nbformat": 4,
 "nbformat_minor": 4
}
