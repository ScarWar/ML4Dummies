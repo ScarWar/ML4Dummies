{
 "cells": [
  {
   "cell_type": "markdown",
   "metadata": {},
   "source": [
    "# ML for dummies\n",
    "\n",
    "This notebook will show easy but practical uses of Machine learning for beginers.  \n",
    "The goal is to help poeple who find the subject interesting to have handsdown examples\n",
    "\n",
    "## Table of contents\n",
    "\n",
    "1.  Supervised and Unsupervised (RL?)  \n",
    "    a.  Anomaly detection  \n",
    "2.  Intro to ML  \n",
    "    a.  Loss and optimization  \n",
    "    b.  GD  \n",
    "3.  Regression and classification  \n",
    "    a.  Linear regression  \n",
    "    b.  SVM, logistic  \n",
    "4.  Clustering  \n",
    "    a.  KNN & k-means  \n",
    "5.  NN  \n",
    "    a.  Perceptron  \n",
    "    b.  Sigmoid, ReLU, tanh, etc.  \n",
    "    c.  From Perceptron to a network  \n",
    "    d.  Loss -\\> Derivation -\\> Update  \n",
    "    e.  Dense, Conv, RNN  \n",
    "6.  Summery  \n",
    "    a.  Real world examples  \n",
    "        1) YOLO\n",
    "        2) BERT\n",
    "        3) Deepfake (GANs)"
   ]
  },
  {
   "cell_type": "code",
   "execution_count": 27,
   "metadata": {},
   "outputs": [],
   "source": [
    "import numpy as np\n",
    "import pandas as pd\n",
    "import sklearn as sk\n",
    "import matplotlib.pyplot as plt\n"
   ]
  },
  {
   "cell_type": "code",
   "execution_count": 24,
   "metadata": {},
   "outputs": [],
   "source": [
    "from sklearn import datasets, linear_model\n",
    "from sklearn.model_selection import train_test_split \n",
    "from sklearn.metrics import mean_squared_error, r2_score"
   ]
  },
  {
   "cell_type": "code",
   "execution_count": 85,
   "metadata": {},
   "outputs": [
    {
     "data": {
      "text/plain": [
       "151.0"
      ]
     },
     "execution_count": 85,
     "metadata": {},
     "output_type": "execute_result"
    }
   ],
   "source": [
    "# sklean comes with tens of databsets to learn from\n",
    "# we will use the diabetes data set\n",
    "X, y = datasets.load_diabetes(return_X_y=True)\n",
    "y[0]"
   ]
  },
  {
   "cell_type": "markdown",
   "metadata": {},
   "source": [
    "## Diabetes dataset\n",
    "Ten baseline variables, age, sex, body mass index, average blood pressure, and six blood serum measurements were obtained for each of `n = 442` diabetes patients, as well as the response of interest, a quantitative measure of disease progression one year after baseline.\n",
    "\n",
    "For example `X[0]` has the following values  \n",
    "\n",
    "| Age | Sex | Body mass index | Average blood pressure | S1 | S2 | S3 | S4 | S5 | S6 |  \n",
    "|------|------|------|------|------|------|------|------|------|------|\n",
    "|0.0381|0.0507|0.0617|0.0219|-0.0442|-0.0348|-0.0434|-0.0026|0.0199|-0.0176|\n",
    "\n",
    "While the target `y[0]`\n",
    "\n",
    "| measure of disease progression |\n",
    "|------|\n",
    "| 151.0| \n",
    "\n",
    "An important thing to notice is the data is already normalized. We should alway work with normalized data"
   ]
  },
  {
   "cell_type": "code",
   "execution_count": 73,
   "metadata": {},
   "outputs": [
    {
     "name": "stdout",
     "output_type": "stream",
     "text": [
      "(442, 10)\n",
      "(442,)\n",
      "(442, 1)\n",
      "Exmaple for a the data set values: \n",
      " [-0.03099563]\n"
     ]
    }
   ],
   "source": [
    "# Now we shape our data to be simple and easy to explore\n",
    "# We use the `shape` attribute to understand the data we want to learn from\n",
    "print(X.shape)\n",
    "print(X[:,2].shape)\n",
    "\n",
    "# We can use the reshape the data using slicing and `reshape` method\n",
    "X = X[:,2].reshape(-1, 1)\n",
    "print(X.shape)\n",
    "\n",
    "# Now we use a great util from sklearn which helps us to split the data randomly\n",
    "X_train, X_test, y_train, y_test = train_test_split(X, y, test_size=0.33, random_state=42)\n",
    "print('Exmaple for a the data set values: \\n', X_train[0])"
   ]
  },
  {
   "cell_type": "code",
   "execution_count": 74,
   "metadata": {},
   "outputs": [
    {
     "data": {
      "text/plain": [
       "LinearRegression(copy_X=True, fit_intercept=True, n_jobs=None, normalize=False)"
      ]
     },
     "execution_count": 74,
     "metadata": {},
     "output_type": "execute_result"
    }
   ],
   "source": [
    "model = linear_model.LinearRegression()\n",
    "model.fit(X_train, y_train)"
   ]
  },
  {
   "cell_type": "code",
   "execution_count": 75,
   "metadata": {},
   "outputs": [
    {
     "name": "stdout",
     "output_type": "stream",
     "text": [
      "Coefficients: \n",
      " [972.87627375]\n",
      "Mean squared error: 3934.07\n",
      "Coefficient of determination: 0.32\n"
     ]
    },
    {
     "data": {
      "image/png": "[encoded data removed]",
      "text/plain": [
       "<Figure size 432x288 with 1 Axes>"
      ]
     },
     "metadata": {},
     "output_type": "display_data"
    }
   ],
   "source": [
    "y_pred = model.predict(X_test)\n",
    "\n",
    "# The coefficients\n",
    "print('Coefficients: \\n', model.coef_)\n",
    "# The mean squared error\n",
    "print('Mean squared error: %.2f'\n",
    "      % mean_squared_error(y_test, y_pred))\n",
    "# The coefficient of determination: 1 is perfect prediction\n",
    "print('Coefficient of determination: %.2f'\n",
    "      % r2_score(y_test, y_pred))\n",
    "\n",
    "# Plot outputs\n",
    "plt.close()\n",
    "plt.scatter(X_test, y_test,  color='black')\n",
    "plt.plot(X_test, y_pred, color='blue', linewidth=3)\n",
    "\n",
    "plt.xticks(())\n",
    "plt.yticks(())\n",
    "\n",
    "plt.show()"
   ]
  }
 ],
 "metadata": {
  "kernelspec": {
   "display_name": "Python 3",
   "language": "python",
   "name": "python3"
  },
  "language_info": {
   "codemirror_mode": {
    "name": "ipython",
    "version": 3
   },
   "file_extension": ".py",
   "mimetype": "text/x-python",
   "name": "python",
   "nbconvert_exporter": "python",
   "pygments_lexer": "ipython3",
   "version": "3.7.6"
  }
 },
 "nbformat": 4,
 "nbformat_minor": 4
}
